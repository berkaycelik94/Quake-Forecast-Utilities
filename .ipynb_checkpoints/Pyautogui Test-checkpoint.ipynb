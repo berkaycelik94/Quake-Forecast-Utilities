{
 "cells": [
  {
   "cell_type": "code",
   "execution_count": null,
   "metadata": {
    "collapsed": true
   },
   "outputs": [],
   "source": [
    "import pyautogui\n",
    "import time\n",
    "import pyperclip\n",
    "pyautogui.PAUSE = 0.4\n",
    "pyautogui.FAILSAFE = True\n",
    "\n",
    "def locate_and_click(png_file_name):\n",
    "    try:\n",
    "        # locate\n",
    "        (x, y) = pyautogui.locateCenterOnScreen(png_file_name)\n",
    "        \n",
    "        # move mouse\n",
    "        pyautogui.moveTo(x, y)\n",
    "        \n",
    "        # click\n",
    "        pyautogui.click(x, y)\n",
    "    except:\n",
    "        print('Cannot locate:' + png_file_name)"
   ]
  }
 ],
 "metadata": {
  "kernelspec": {
   "display_name": "Python 3",
   "language": "python",
   "name": "python3"
  },
  "language_info": {
   "codemirror_mode": {
    "name": "ipython",
    "version": 3
   },
   "file_extension": ".py",
   "mimetype": "text/x-python",
   "name": "python",
   "nbconvert_exporter": "python",
   "pygments_lexer": "ipython3",
   "version": "3.6.3"
  }
 },
 "nbformat": 4,
 "nbformat_minor": 2
}
