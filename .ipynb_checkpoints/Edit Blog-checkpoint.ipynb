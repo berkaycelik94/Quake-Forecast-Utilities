{
 "cells": [
  {
   "cell_type": "code",
   "execution_count": 519,
   "metadata": {
    "collapsed": true
   },
   "outputs": [],
   "source": [
    "import editblog"
   ]
  },
  {
   "cell_type": "code",
   "execution_count": null,
   "metadata": {
    "collapsed": true
   },
   "outputs": [],
   "source": [
    "2018-05-05 06:32 UTC+8 夏威夷 ハワイ Hawaii M6.9\n",
    "2018-05-09 15:57 UTC+8 巴布亞紐幾內亞 パプアニューギニア Papua New Guinea M6.0"
   ]
  },
  {
   "cell_type": "code",
   "execution_count": 695,
   "metadata": {
    "collapsed": true
   },
   "outputs": [],
   "source": [
    "name_new_files(file_number=1, to_WeChat=False, date_stamp='2018-05-14')"
   ]
  },
  {
   "cell_type": "code",
   "execution_count": 702,
   "metadata": {
    "collapsed": true
   },
   "outputs": [],
   "source": [
    "name_new_files(file_number=6, to_WeChat=True, date_stamp='2018-05-14')"
   ]
  },
  {
   "cell_type": "code",
   "execution_count": 703,
   "metadata": {},
   "outputs": [],
   "source": [
    "analyze_file(1)"
   ]
  },
  {
   "cell_type": "code",
   "execution_count": 704,
   "metadata": {
    "collapsed": true
   },
   "outputs": [],
   "source": [
    "analyze_file(2)"
   ]
  },
  {
   "cell_type": "code",
   "execution_count": 705,
   "metadata": {
    "collapsed": true
   },
   "outputs": [],
   "source": [
    "analyze_file(3)"
   ]
  },
  {
   "cell_type": "code",
   "execution_count": 706,
   "metadata": {
    "collapsed": true
   },
   "outputs": [],
   "source": [
    "analyze_file(4)"
   ]
  },
  {
   "cell_type": "code",
   "execution_count": 707,
   "metadata": {
    "collapsed": true
   },
   "outputs": [],
   "source": [
    "analyze_file(5)"
   ]
  },
  {
   "cell_type": "code",
   "execution_count": 708,
   "metadata": {
    "collapsed": true
   },
   "outputs": [],
   "source": [
    "analyze_file(6)"
   ]
  },
  {
   "cell_type": "code",
   "execution_count": 591,
   "metadata": {
    "collapsed": true
   },
   "outputs": [],
   "source": [
    "analyze_file(7)"
   ]
  },
  {
   "cell_type": "code",
   "execution_count": 633,
   "metadata": {
    "collapsed": true
   },
   "outputs": [],
   "source": [
    "insert_files(2)"
   ]
  },
  {
   "cell_type": "code",
   "execution_count": 659,
   "metadata": {
    "collapsed": true
   },
   "outputs": [],
   "source": [
    "# 黃、橙\n",
    "insert_files(2)\n",
    "station_name = station['智利聖地牙哥站']\n",
    "\n",
    "languages = ['Chinese', 'Japanese', 'English']\n",
    "quake_forecast = [\n",
    "    {'color': Yellow,\n",
    "     'time': 41,\n",
    "     'location': {\n",
    "         'Chinese': '伊朗或緬甸，',\n",
    "         'Japanese': 'イランまたはビルマ、',\n",
    "         'English': 'Iran or Myanmar, '},\n",
    "     'magnitude': 'M9+'},\n",
    "    {'color': Orange,\n",
    "     'time': 25,\n",
    "     'location': {\n",
    "        'Chinese': '花蓮、台東、菲律賓或印尼，',\n",
    "        'Japanese': '花蓮、台東、フィリピンまたはインドネシア、',\n",
    "        'English': 'Hualien, Taitung, Philippines or Indonesia, '},\n",
    "     'magnitude': 'M7+~M8+'}]\n",
    "\n",
    "time_stamp = get_time_stamp()\n",
    "(blog_title, blog_title_str) = publish_Quake_Forecast(quake_forecast, \n",
    "                                    station_name, languages, time_stamp)\n",
    "view_blog()\n",
    "close_Blogger_article_list()\n",
    "\n",
    "blog_address = get_blog_address()\n",
    "post_Quake_Forecast(quake_forecast, station_name, time_stamp,\n",
    "            blog_address, blog_title_str)"
   ]
  },
  {
   "cell_type": "code",
   "execution_count": 678,
   "metadata": {
    "collapsed": true
   },
   "outputs": [],
   "source": [
    "# 黃\n",
    "insert_files(1)\n",
    "station_name = station['義大利卡爾塔尼塞塔站']\n",
    "\n",
    "languages = ['Chinese', 'Japanese', 'English']\n",
    "quake_forecast = [\n",
    "    {'color': Yellow,\n",
    "     'time': 41,\n",
    "     'location': {\n",
    "         'Chinese': '伊朗或緬甸，',\n",
    "         'Japanese': 'イランまたはビルマ、',\n",
    "         'English': 'Iran or Myanmar, '},\n",
    "     'magnitude': 'M9+'}]\n",
    "\n",
    "time_stamp = get_time_stamp()\n",
    "(blog_title, blog_title_str) = publish_Quake_Forecast(quake_forecast, \n",
    "                                    station_name, languages, time_stamp)\n",
    "view_blog()\n",
    "close_Blogger_article_list()\n",
    "\n",
    "blog_address = get_blog_address()\n",
    "post_Quake_Forecast(quake_forecast, station_name, time_stamp,\n",
    "            blog_address, blog_title_str)"
   ]
  },
  {
   "cell_type": "code",
   "execution_count": 258,
   "metadata": {
    "collapsed": true
   },
   "outputs": [],
   "source": [
    "view_blog()\n",
    "close_Blogger_article_list()\n",
    "\n",
    "blog_address = get_blog_address()\n",
    "post_Quake_Forecast(quake_forecast, station_name, time_stamp,\n",
    "            blog_address, blog_title_str)"
   ]
  },
  {
   "cell_type": "code",
   "execution_count": 701,
   "metadata": {},
   "outputs": [],
   "source": [
    "# 橙\n",
    "insert_files(2)\n",
    "station_name = station['宜蘭站']\n",
    "\n",
    "languages = ['Chinese', 'Japanese', 'English']\n",
    "quake_forecast = [\n",
    "    {'color': Orange,\n",
    "     'time': 25,\n",
    "     'location': {\n",
    "        'Chinese': '花蓮、台東、菲律賓或印尼，',\n",
    "        'Japanese': '花蓮、台東、フィリピンまたはインドネシア、',\n",
    "        'English': 'Hualien, Taitung, Philippines or Indonesia, '},\n",
    "     'magnitude': 'M7+~M8+'}]\n",
    "\n",
    "time_stamp = get_time_stamp()\n",
    "(blog_title, blog_title_str) = publish_Quake_Forecast(quake_forecast, \n",
    "                                    station_name, languages, time_stamp)\n",
    "view_blog()\n",
    "close_Blogger_article_list()\n",
    "\n",
    "blog_address = get_blog_address()\n",
    "post_Quake_Forecast(quake_forecast, station_name, time_stamp,\n",
    "            blog_address, blog_title_str)"
   ]
  },
  {
   "cell_type": "code",
   "execution_count": 689,
   "metadata": {
    "collapsed": true
   },
   "outputs": [],
   "source": [
    "# 藍\n",
    "insert_files(1)\n",
    "station_name = station['上海站']\n",
    "\n",
    "languages = ['Chinese', 'Japanese', 'English']\n",
    "quake_forecast = [\n",
    "    {'color': Blue,\n",
    "     'time': 6,\n",
    "     'location': {\n",
    "        'Chinese': '日本，',\n",
    "        'Japanese': '日本、',\n",
    "        'English': 'Japan, '},\n",
    "     'magnitude': 'M5.6'}]\n",
    "\n",
    "time_stamp = get_time_stamp()\n",
    "(blog_title, blog_title_str) = publish_Quake_Forecast(quake_forecast, \n",
    "                                    station_name, languages, time_stamp)\n",
    "view_blog()\n",
    "close_Blogger_article_list()\n",
    "\n",
    "blog_address = get_blog_address()\n",
    "post_Quake_Forecast(quake_forecast, station_name, time_stamp,\n",
    "            blog_address, blog_title_str)"
   ]
  },
  {
   "cell_type": "code",
   "execution_count": 475,
   "metadata": {
    "collapsed": true
   },
   "outputs": [],
   "source": [
    "view_blog()\n",
    "close_Blogger_article_list()\n",
    "\n",
    "blog_address = get_blog_address()\n",
    "post_Quake_Forecast(quake_forecast, station_name, time_stamp,\n",
    "            blog_address, blog_title_str)"
   ]
  },
  {
   "cell_type": "code",
   "execution_count": null,
   "metadata": {
    "collapsed": true
   },
   "outputs": [],
   "source": [
    "# 花蓮加灣 地磁\n",
    "insert_files(2)\n",
    "station_name = station['宜蘭站']\n",
    "languages = ['Chinese', 'Japanese', 'English']\n",
    "quake_forecast = [\n",
    "    {'color': Red,\n",
    "     'time': 3,\n",
    "     'location': {\n",
    "        'Chinese': '花蓮、宜蘭或沖繩，',\n",
    "        'Japanese': '花蓮、宜蘭または沖縄、',\n",
    "        'English': 'Hualien, Yilan or Okinawa, '},\n",
    "     'magnitude': 'M3+~M4+'}]\n",
    "\n",
    "time_stamp = get_time_stamp()\n",
    "(blog_title, blog_title_str) = publish_Quake_Forecast(quake_forecast, \n",
    "                                    station_name, languages, time_stamp)\n",
    "view_blog()\n",
    "close_Blogger_article_list()\n",
    "\n",
    "blog_address = get_blog_address()\n",
    "post_Quake_Forecast(quake_forecast, station_name, time_stamp,\n",
    "            blog_address, blog_title_str)"
   ]
  },
  {
   "cell_type": "code",
   "execution_count": null,
   "metadata": {
    "collapsed": true
   },
   "outputs": [],
   "source": []
  },
  {
   "cell_type": "code",
   "execution_count": null,
   "metadata": {
    "collapsed": true
   },
   "outputs": [],
   "source": [
    "# 宜蘭內城 地磁\n",
    "insert_files(2)\n",
    "station_name = station['宜蘭站']\n",
    "\n",
    "languages = ['Chinese', 'Japanese', 'English']\n",
    "quake_forecast = [\n",
    "    {'color': Orange,\n",
    "     'time': 3,\n",
    "     'location': {\n",
    "        'Chinese': '宜蘭、新北或沖繩，',\n",
    "        'Japanese': '宜蘭、新北または沖縄、',\n",
    "        'English': 'Yilan, New Taipei or Okinawa, '},\n",
    "     'magnitude': 'M3+~M4+'}]\n",
    "\n",
    "time_stamp = get_time_stamp()\n",
    "(blog_title, blog_title_str) = publish_Quake_Forecast(quake_forecast, \n",
    "                                    station_name, languages, time_stamp)\n",
    "view_blog()\n",
    "close_Blogger_article_list()\n",
    "\n",
    "blog_address = get_blog_address()\n",
    "post_Quake_Forecast(quake_forecast, station_name, time_stamp,\n",
    "            blog_address, blog_title_str)"
   ]
  },
  {
   "cell_type": "code",
   "execution_count": null,
   "metadata": {
    "collapsed": true
   },
   "outputs": [],
   "source": [
    "# 桃園爺亨 地磁\n",
    "\n",
    "insert_files(2)\n",
    "\n",
    "station_name = station['宜蘭站']\n",
    "languages = ['Chinese', 'Japanese', 'English']\n",
    "quake_forecast = [\n",
    "    {'color': Orange,\n",
    "     'time': 3,\n",
    "     'location': {\n",
    "        'Chinese': '桃園、宜蘭或花蓮，',\n",
    "        'Japanese': '桃園、宜蘭または花蓮、',\n",
    "        'English': 'Taoyuan, Yilan or Hualien, '},\n",
    "     'magnitude': 'M3+~M4+'}]\n",
    "\n",
    "time_stamp = get_time_stamp()\n",
    "(blog_title, blog_title_str) = publish_Quake_Forecast(quake_forecast, \n",
    "                                    station_name, languages, time_stamp)\n",
    "view_blog()\n",
    "close_Blogger_article_list()\n",
    "\n",
    "blog_address = get_blog_address()\n",
    "post_Quake_Forecast(quake_forecast, station_name, time_stamp,\n",
    "            blog_address, blog_title_str)"
   ]
  },
  {
   "cell_type": "code",
   "execution_count": null,
   "metadata": {
    "collapsed": true
   },
   "outputs": [],
   "source": [
    "# 台南灣丘 地磁\n",
    "\n",
    "insert_files(2)\n",
    "\n",
    "station_name = station['宜蘭站']\n",
    "languages = ['Chinese', 'Japanese', 'English']\n",
    "quake_forecast = [\n",
    "    {'color': Orange,\n",
    "     'time': 1,\n",
    "     'location': {\n",
    "        'Chinese': '台南、嘉義或高雄，',\n",
    "        'Japanese': '台南、嘉義または高雄、',\n",
    "        'English': 'Tainan, Chiayi or Kaohsiung, '},\n",
    "     'magnitude': 'M3+~M4+'}]\n",
    "\n",
    "time_stamp = get_time_stamp()\n",
    "(blog_title, blog_title_str) = publish_Quake_Forecast(quake_forecast, \n",
    "                                    station_name, languages, time_stamp)\n",
    "view_blog()\n",
    "close_Blogger_article_list()\n",
    "\n",
    "blog_address = get_blog_address()\n",
    "post_Quake_Forecast(quake_forecast, station_name, time_stamp,\n",
    "            blog_address, blog_title_str)"
   ]
  },
  {
   "cell_type": "code",
   "execution_count": null,
   "metadata": {
    "collapsed": true
   },
   "outputs": [],
   "source": [
    "# 台東卑南 地磁\n",
    "\n",
    "insert_files(1)\n",
    "\n",
    "station_name = station['宜蘭站']\n",
    "languages = ['Chinese', 'Japanese', 'English']\n",
    "quake_forecast = [\n",
    "    {'color': Orange,\n",
    "     'time': 3,\n",
    "     'location': {\n",
    "        'Chinese': '台東、屏東或高雄，',\n",
    "        'Japanese': '台東、屏東または高雄、',\n",
    "        'English': 'Taitung, Pingtung or Kaohsiung, '},\n",
    "     'magnitude': 'M3+~M4+'}]\n",
    "\n",
    "time_stamp = get_time_stamp()\n",
    "(blog_title, blog_title_str) = publish_Quake_Forecast(quake_forecast, \n",
    "                                    station_name, languages, time_stamp)\n",
    "view_blog()\n",
    "close_Blogger_article_list()\n",
    "\n",
    "blog_address = get_blog_address()\n",
    "post_Quake_Forecast(quake_forecast, station_name, time_stamp,\n",
    "            blog_address, blog_title_str)"
   ]
  },
  {
   "cell_type": "code",
   "execution_count": null,
   "metadata": {
    "collapsed": true
   },
   "outputs": [],
   "source": [
    "# 台東池上 地磁\n",
    "\n",
    "insert_files(2)\n",
    "\n",
    "station_name = station['宜蘭站']\n",
    "languages = ['Chinese', 'Japanese', 'English']\n",
    "quake_forecast = [\n",
    "    {'color': Red,\n",
    "     'time': 3,\n",
    "     'location': {\n",
    "        'Chinese': '嘉義、台南、高雄或台東，',\n",
    "        'Japanese': '嘉義、台南、高雄または台東、',\n",
    "        'English': 'Chiayi, Tainan, Kaohsiung or Taitung, '},\n",
    "     'magnitude': 'M3+~M4+'}]\n",
    "\n",
    "time_stamp = get_time_stamp()\n",
    "(blog_title, blog_title_str) = publish_Quake_Forecast(quake_forecast, \n",
    "                                    station_name, languages, time_stamp)\n",
    "view_blog()\n",
    "close_Blogger_article_list()\n",
    "\n",
    "blog_address = get_blog_address()\n",
    "post_Quake_Forecast(quake_forecast, station_name, time_stamp,\n",
    "            blog_address, blog_title_str)"
   ]
  },
  {
   "cell_type": "code",
   "execution_count": null,
   "metadata": {
    "collapsed": true
   },
   "outputs": [],
   "source": [
    "# 屏東馬仕 地磁\n",
    "\n",
    "insert_files(2)\n",
    "\n",
    "station_name = station['宜蘭站']\n",
    "languages = ['Chinese', 'Japanese', 'English']\n",
    "quake_forecast = [\n",
    "    {'color': Purple,\n",
    "     'time': 3,\n",
    "     'location': {\n",
    "        'Chinese': '屏東、台東或高雄，',\n",
    "        'Japanese': '屏東、台東または高雄、',\n",
    "        'English': 'Pingtung, Taitung or Kaohsiung, '},\n",
    "     'magnitude': 'M3+~M4+'}]\n",
    "\n",
    "time_stamp = get_time_stamp()\n",
    "(blog_title, blog_title_str) = publish_Quake_Forecast(quake_forecast, \n",
    "                                    station_name, languages, time_stamp)\n",
    "view_blog()\n",
    "close_Blogger_article_list()\n",
    "\n",
    "blog_address = get_blog_address()\n",
    "post_Quake_Forecast(quake_forecast, station_name, time_stamp,\n",
    "            blog_address, blog_title_str)"
   ]
  },
  {
   "cell_type": "code",
   "execution_count": 3,
   "metadata": {
    "collapsed": true
   },
   "outputs": [],
   "source": [
    "# 屏東恆春 地磁\n",
    "insert_files(2)\n",
    "station_name = station['宜蘭站']\n",
    "\n",
    "languages = ['Chinese', 'Japanese', 'English']\n",
    "quake_forecast = [\n",
    "    {'color': Yellow,\n",
    "     'time': 3,\n",
    "     'location': {\n",
    "        'Chinese': '屏東、台東或高雄，',\n",
    "        'Japanese': '屏東、台東または高雄、',\n",
    "        'English': 'Pingtung, Taitung or Kaohsiung, '},\n",
    "     'magnitude': 'M3+~M4+'}]\n",
    "\n",
    "time_stamp = get_time_stamp()\n",
    "(blog_title, blog_title_str) = publish_Quake_Forecast(quake_forecast, \n",
    "                                    station_name, languages, time_stamp)\n",
    "view_blog()\n",
    "close_Blogger_article_list()\n",
    "\n",
    "blog_address = get_blog_address()\n",
    "post_Quake_Forecast(quake_forecast, station_name, time_stamp,\n",
    "            blog_address, blog_title_str)"
   ]
  },
  {
   "cell_type": "code",
   "execution_count": 709,
   "metadata": {},
   "outputs": [],
   "source": [
    "# 宜蘭南澳 地電\n",
    "insert_files(2)\n",
    "\n",
    "station_name = station['宜蘭站']\n",
    "languages = ['Chinese', 'Japanese', 'English']\n",
    "quake_forecast = [\n",
    "    {'color': Red,\n",
    "     'time': 3,\n",
    "     'location': {\n",
    "        'Chinese': '宜蘭或花蓮，',\n",
    "        'Japanese': '宜蘭または花蓮、',\n",
    "        'English': 'Yilan or Hualien, '},\n",
    "     'magnitude': 'M3+~M4+'}]\n",
    "\n",
    "time_stamp = get_time_stamp()\n",
    "(blog_title, blog_title_str) = publish_Quake_Forecast(quake_forecast, \n",
    "                                    station_name, languages, time_stamp)\n",
    "view_blog()\n",
    "close_Blogger_article_list()\n",
    "\n",
    "blog_address = get_blog_address()\n",
    "post_Quake_Forecast(quake_forecast, station_name, time_stamp,\n",
    "            blog_address, blog_title_str)"
   ]
  },
  {
   "cell_type": "code",
   "execution_count": null,
   "metadata": {
    "collapsed": true
   },
   "outputs": [],
   "source": [
    "blog_address = get_blog_address()\n",
    "post_Quake_Forecast(quake_forecast, station_name, time_stamp,\n",
    "            blog_address, blog_title_str)"
   ]
  },
  {
   "cell_type": "code",
   "execution_count": 710,
   "metadata": {
    "collapsed": true
   },
   "outputs": [],
   "source": [
    "# 雲林四湖 地電\n",
    "insert_files(2)\n",
    "\n",
    "station_name = station['宜蘭站']\n",
    "languages = ['Chinese', 'Japanese', 'English']\n",
    "quake_forecast = [\n",
    "    {'color': Red,\n",
    "     'time': 3,\n",
    "     'location': {\n",
    "        'Chinese': '雲林、嘉義或台南，',\n",
    "        'Japanese': '雲林、嘉義または台南、',\n",
    "        'English': 'Yunlin, Jiayi or Tainan, '},\n",
    "     'magnitude': 'M3+~M4+'}]\n",
    "\n",
    "time_stamp = get_time_stamp()\n",
    "(blog_title, blog_title_str) = publish_Quake_Forecast(quake_forecast, \n",
    "                                    station_name, languages, time_stamp)\n",
    "view_blog()\n",
    "close_Blogger_article_list()\n",
    "\n",
    "blog_address = get_blog_address()\n",
    "post_Quake_Forecast(quake_forecast, station_name, time_stamp,\n",
    "            blog_address, blog_title_str)"
   ]
  },
  {
   "cell_type": "code",
   "execution_count": 711,
   "metadata": {
    "collapsed": true
   },
   "outputs": [],
   "source": [
    "# 花蓮鳳林 地電\n",
    "insert_files(2)\n",
    "\n",
    "station_name = station['宜蘭站']\n",
    "languages = ['Chinese', 'Japanese', 'English']\n",
    "quake_forecast = [\n",
    "    {'color': Red,\n",
    "     'time': 3,\n",
    "     'location': {\n",
    "        'Chinese': '花蓮或南投，',\n",
    "        'Japanese': '花蓮または南投、',\n",
    "        'English': 'Hualien or Nantou, '},\n",
    "     'magnitude': 'M3+~M4+'}]\n",
    "\n",
    "time_stamp = get_time_stamp()\n",
    "(blog_title, blog_title_str) = publish_Quake_Forecast(quake_forecast, \n",
    "                                    station_name, languages, time_stamp)\n",
    "view_blog()\n",
    "close_Blogger_article_list()\n",
    "\n",
    "blog_address = get_blog_address()\n",
    "post_Quake_Forecast(quake_forecast, station_name, time_stamp,\n",
    "            blog_address, blog_title_str)"
   ]
  },
  {
   "cell_type": "code",
   "execution_count": 648,
   "metadata": {
    "collapsed": true
   },
   "outputs": [],
   "source": [
    "# 屏東楓港 地電\n",
    "insert_files(2)\n",
    "station_name = station['宜蘭站']\n",
    "\n",
    "languages = ['Chinese', 'Japanese', 'English']\n",
    "quake_forecast = [\n",
    "    {'color': Red,\n",
    "     'time': 3,\n",
    "     'location': {\n",
    "        'Chinese': '屏東、台東或高雄，',\n",
    "        'Japanese': '屏東、台東または高雄、',\n",
    "        'English': 'Pingtung, Taitung or Kaohsiung, '},\n",
    "     'magnitude': 'M3+~M4+'}]\n",
    "\n",
    "time_stamp = get_time_stamp()\n",
    "(blog_title, blog_title_str) = publish_Quake_Forecast(quake_forecast, \n",
    "                                    station_name, languages, time_stamp)\n",
    "view_blog()\n",
    "close_Blogger_article_list()\n",
    "\n",
    "blog_address = get_blog_address()\n",
    "post_Quake_Forecast(quake_forecast, station_name, time_stamp,\n",
    "            blog_address, blog_title_str)"
   ]
  },
  {
   "cell_type": "code",
   "execution_count": null,
   "metadata": {
    "collapsed": true
   },
   "outputs": [],
   "source": [
    "# 嘉義達邦 地電\n",
    "insert_files(2)\n",
    "\n",
    "station_name = station['宜蘭站']\n",
    "languages = ['Chinese', 'Japanese', 'English']\n",
    "quake_forecast = [\n",
    "    {'color': Red,\n",
    "     'time': 3,\n",
    "     'location': {\n",
    "        'Chinese': '嘉義或台南，',\n",
    "        'Japanese': '嘉義または台南、',\n",
    "        'English': 'Jiayi or Tainan, '},\n",
    "     'magnitude': 'M3+~M4+'}]\n",
    "\n",
    "time_stamp = get_time_stamp()\n",
    "(blog_title, blog_title_str) = publish_Quake_Forecast(quake_forecast, \n",
    "                                    station_name, languages, time_stamp)\n",
    "view_blog()\n",
    "close_Blogger_article_list()\n",
    "\n",
    "blog_address = get_blog_address()\n",
    "post_Quake_Forecast(quake_forecast, station_name, time_stamp,\n",
    "            blog_address, blog_title_str)"
   ]
  },
  {
   "cell_type": "code",
   "execution_count": 231,
   "metadata": {},
   "outputs": [
    {
     "name": "stdout",
     "output_type": "stream",
     "text": [
      "Cannot locate:BloggerTab.png\n"
     ]
    }
   ],
   "source": [
    "view_blog()\n",
    "close_Blogger_article_list()\n",
    "\n",
    "blog_address = get_blog_address()\n",
    "post_Quake_Forecast(quake_forecast, station_name, time_stamp,\n",
    "            blog_address, blog_title_str)"
   ]
  },
  {
   "cell_type": "code",
   "execution_count": 10,
   "metadata": {
    "collapsed": true
   },
   "outputs": [],
   "source": [
    "# 南投埔里 地電\n",
    "insert_files(2)\n",
    "\n",
    "station_name = station['宜蘭站']\n",
    "languages = ['Chinese', 'Japanese', 'English']\n",
    "quake_forecast = [\n",
    "    {'color': Red,\n",
    "     'time': 3,\n",
    "     'location': {\n",
    "        'Chinese': '南投或台中，',\n",
    "        'Japanese': '南投または台中、',\n",
    "        'English': 'Nantou or Taichung, '},\n",
    "     'magnitude': 'M3+~M4+'}]\n",
    "\n",
    "time_stamp = get_time_stamp()\n",
    "(blog_title, blog_title_str) = publish_Quake_Forecast(quake_forecast, \n",
    "                                    station_name, languages, time_stamp)\n",
    "view_blog()\n",
    "close_Blogger_article_list()\n",
    "\n",
    "blog_address = get_blog_address()\n",
    "post_Quake_Forecast(quake_forecast, station_name, time_stamp,\n",
    "            blog_address, blog_title_str)"
   ]
  },
  {
   "cell_type": "code",
   "execution_count": 300,
   "metadata": {
    "collapsed": true
   },
   "outputs": [],
   "source": [
    "# 桃園復興 地電\n",
    "insert_files(2)\n",
    "\n",
    "station_name = station['宜蘭站']\n",
    "languages = ['Chinese', 'Japanese', 'English']\n",
    "quake_forecast = [\n",
    "    {'color': Red,\n",
    "     'time': 3,\n",
    "     'location': {\n",
    "        'Chinese': '桃園、新竹、宜蘭或花蓮，',\n",
    "        'Japanese': '桃園、新竹、宜蘭または花蓮、',\n",
    "        'English': 'Taoyuan, Hsinchu, Yilan or Hualien, '},\n",
    "     'magnitude': 'M3+~M4+'}]\n",
    "\n",
    "time_stamp = get_time_stamp()\n",
    "(blog_title, blog_title_str) = publish_Quake_Forecast(quake_forecast, \n",
    "                                    station_name, languages, time_stamp)\n",
    "view_blog()\n",
    "close_Blogger_article_list()\n",
    "\n",
    "blog_address = get_blog_address()\n",
    "post_Quake_Forecast(quake_forecast, station_name, time_stamp,\n",
    "            blog_address, blog_title_str)"
   ]
  },
  {
   "cell_type": "code",
   "execution_count": null,
   "metadata": {
    "collapsed": true
   },
   "outputs": [],
   "source": [
    "insert_files(2)\n",
    "\n",
    "station_name = station['宜蘭站']\n",
    "languages = ['Chinese', 'Japanese', 'English']\n",
    "quake_forecast = [\n",
    "    {'color': Orange,\n",
    "     'time': 3,\n",
    "     'location': {\n",
    "        'Chinese': '桃園或宜蘭，',\n",
    "        'Japanese': '桃園または宜蘭、',\n",
    "        'English': 'Taoyuan or Yilan, '},\n",
    "     'magnitude': 'M3+~M4+'}]\n",
    "\n",
    "time_stamp = get_time_stamp()\n",
    "(blog_title, blog_title_str) = publish_Quake_Forecast(quake_forecast, \n",
    "                                    station_name, languages, time_stamp)\n",
    "view_blog()\n",
    "close_Blogger_article_list()\n",
    "\n",
    "blog_address = get_blog_address()\n",
    "post_Quake_Forecast(quake_forecast, station_name, time_stamp,\n",
    "            blog_address, blog_title_str)"
   ]
  },
  {
   "cell_type": "code",
   "execution_count": null,
   "metadata": {
    "collapsed": true
   },
   "outputs": [],
   "source": [
    "insert_files(2)\n",
    "\n",
    "station_name = station['宜蘭站']\n",
    "languages = ['Chinese', 'Japanese', 'English']\n",
    "quake_forecast = [\n",
    "    {'color': Orange,\n",
    "     'time': 3,\n",
    "     'location': {\n",
    "        'Chinese': '台東或花蓮，',\n",
    "        'Japanese': '台東または花蓮、',\n",
    "        'English': 'Taitung or Hualien, '},\n",
    "     'magnitude': 'M3+~M4+'}]\n",
    "\n",
    "time_stamp = get_time_stamp()\n",
    "(blog_title, blog_title_str) = publish_Quake_Forecast(quake_forecast, \n",
    "                                    station_name, languages, time_stamp)\n",
    "view_blog()\n",
    "close_Blogger_article_list()\n",
    "\n",
    "blog_address = get_blog_address()\n",
    "post_Quake_Forecast(quake_forecast, station_name, time_stamp,\n",
    "            blog_address, blog_title_str)"
   ]
  },
  {
   "cell_type": "code",
   "execution_count": null,
   "metadata": {
    "collapsed": true
   },
   "outputs": [],
   "source": [
    "insert_files(1)"
   ]
  },
  {
   "cell_type": "code",
   "execution_count": null,
   "metadata": {
    "collapsed": true
   },
   "outputs": [],
   "source": [
    "insert_files(1)\n",
    "\n",
    "station_name = station['宜蘭站']\n",
    "languages = ['Chinese', 'Japanese', 'English']\n",
    "quake_forecast = [\n",
    "    {'color': Red,\n",
    "     'time': 3,\n",
    "     'location': {\n",
    "        'Chinese': '花蓮，',\n",
    "        'Japanese': '花蓮、',\n",
    "        'English': 'Hualien, '},\n",
    "     'magnitude': 'M3+~M4+'}]\n",
    "\n",
    "time_stamp = get_time_stamp()\n",
    "(blog_title, blog_title_str) = publish_Quake_Forecast(quake_forecast, \n",
    "                                    station_name, languages, time_stamp)\n",
    "view_blog()\n",
    "close_Blogger_article_list()\n",
    "\n",
    "blog_address = get_blog_address()\n",
    "post_Quake_Forecast(quake_forecast, station_name, time_stamp,\n",
    "            blog_address, blog_title_str)"
   ]
  },
  {
   "cell_type": "code",
   "execution_count": null,
   "metadata": {
    "collapsed": true
   },
   "outputs": [],
   "source": [
    "view_blog()\n",
    "close_Blogger_article_list()\n",
    "\n",
    "blog_address = get_blog_address()\n",
    "post_Quake_Forecast(quake_forecast, station_name, time_stamp,\n",
    "            blog_address, blog_title_str)"
   ]
  },
  {
   "cell_type": "code",
   "execution_count": null,
   "metadata": {
    "collapsed": true
   },
   "outputs": [],
   "source": [
    "insert_files(1)\n",
    "\n",
    "station_name = station['宜蘭站']\n",
    "languages = ['Chinese', 'Japanese', 'English']\n",
    "quake_forecast = [\n",
    "    {'color': Red,\n",
    "     'time': 3,\n",
    "     'location': {\n",
    "        'Chinese': '宜蘭，',\n",
    "        'Japanese': '宜蘭、',\n",
    "        'English': 'Yilan, '},\n",
    "     'magnitude': 'M3+~M4+'}]\n",
    "\n",
    "time_stamp = get_time_stamp()\n",
    "(blog_title, blog_title_str) = publish_Quake_Forecast(quake_forecast, \n",
    "                                    station_name, languages, time_stamp)\n",
    "view_blog()\n",
    "close_Blogger_article_list()\n",
    "\n",
    "blog_address = get_blog_address()\n",
    "post_Quake_Forecast(quake_forecast, station_name, time_stamp,\n",
    "            blog_address, blog_title_str)"
   ]
  },
  {
   "cell_type": "code",
   "execution_count": null,
   "metadata": {
    "collapsed": true
   },
   "outputs": [],
   "source": [
    "insert_files(1)\n",
    "\n",
    "station_name = station['上海站']\n",
    "languages = ['Chinese', 'Japanese', 'English']\n",
    "quake_forecast = [\n",
    "    {'color': Red,\n",
    "     'time': 7,\n",
    "     'location': {\n",
    "         'Chinese': '南日本或台灣，',\n",
    "         'Japanese': '南日本または台湾、',\n",
    "         'English': 'South Japan or Taiwan, '},\n",
    "     'magnitude': 'M6.0'}]\n",
    "\n",
    "time_stamp = get_time_stamp()\n",
    "(blog_title, blog_title_str) = publish_Quake_Forecast(quake_forecast, \n",
    "                                    station_name, languages, time_stamp)\n",
    "view_blog()\n",
    "close_Blogger_article_list()\n",
    "\n",
    "blog_address = get_blog_address()\n",
    "post_Quake_Forecast(quake_forecast, station_name, time_stamp,\n",
    "            blog_address, blog_title_str)"
   ]
  },
  {
   "cell_type": "code",
   "execution_count": null,
   "metadata": {
    "collapsed": true
   },
   "outputs": [],
   "source": [
    "insert_files(4)"
   ]
  },
  {
   "cell_type": "code",
   "execution_count": null,
   "metadata": {
    "collapsed": true
   },
   "outputs": [],
   "source": [
    "post_to_Facebook(1)\n",
    "post_to_Facebook(2)\n",
    "post_to_Facebook(3)"
   ]
  },
  {
   "cell_type": "code",
   "execution_count": null,
   "metadata": {
    "collapsed": true
   },
   "outputs": [],
   "source": [
    "發生了： 発生了： Happened:\n",
    "\n",
    "# 發生了： 発生了： Happened:\n",
    "# '日本、俄羅斯或阿拉斯加，',\n",
    "# '日本、ロシアまたはアラスカ、',\n",
    "# 'Japan, Russia or Alaska, '},\n",
    "# '南太平洋或南美洲，',\n",
    "# '南太平洋または南米',\n",
    "# 'South Pacific or South America, '},\n",
    "\n",
    "2017-05-09 09:54 UTC+8\n",
    "沖繩 沖縄 Okinawa \n",
    "M6.0\n",
    "\n",
    "2017-05-09 21:52 UTC+8 \n",
    "萬那杜 バヌアツ Vanuatu \n",
    "M6.8\n",
    "\n",
    "2017-05-11 07:23 UTC+8\n",
    "南三明治群島 南サンドイッチ諸島 South Sandwich Islands\n",
    "M6.5\n",
    "\n",
    "2017-05-29 22:35 UTC+8\n",
    "印尼 インドネシア Indonesia\n",
    "M6.6\n",
    "\n",
    "2017-06-03 06:24 UTC+8\n",
    "阿拉斯加 アラスカ Alaska \n",
    "M6.8\n",
    "\n",
    "2017-06-14 15:29 UTC+8 \n",
    "瓜地馬拉 グアテマラ Guatemala \n",
    "M6.9\n",
    "\n",
    "2017/06/22 20:31 UTC+8 \n",
    "瓜地馬拉 グアテマラ Guatemala\n",
    "M6.8\n",
    "\n",
    "2017/07/13 11:36 UTC+8\n",
    "巴布亞紐幾內亞 パプアニューギニア Papua New Guinea\n",
    "M6.4\n",
    "\n",
    "2017-07-18 10:05:19 UTC+8 \n",
    "秘魯 ペルー Peru \n",
    "M6.4\n",
    "\n",
    "2017-08-04 19:19 UTC+8\n",
    "日本石垣島 \n",
    "日本石垣島 \n",
    "Ishigaki, Japan\n",
    "M5.1\n",
    "\n",
    "2017-07-06 16:03 UTC+8\n",
    "菲律賓 フィリピン Philippines \n",
    "M6.5\n",
    "\n",
    "2017/07/17 19:05 UTC+8\n",
    "俄羅斯 ロシア Russia \n",
    "M6.2\n",
    "\n",
    "2017-07-18 07:34 UTC+8 \n",
    "俄羅斯 ロシア Russia \n",
    "M7.7\n",
    "\n",
    "2017-07-26 18:32 UTC+8\n",
    "日本奄美大島 日本奄美大島 Naze, Japan\n",
    "M5.9\n",
    "\n",
    "2017-08-08 21:19:49 UTC+8\n",
    "四川 四川 Sichuan, China\n",
    "M6.5\n",
    "\n",
    "2017-08-09 07:27 UTC+8\n",
    "新疆 新疆 Xinjiang, China\n",
    "M6.3\n",
    "\n",
    "2017-08-11 13:28 UTC+8\n",
    "菲律賓 フィリピン Philippines \n",
    "M6.2\n",
    "\n",
    "2017-08-13 11:08 UTC+8\n",
    "印尼 インドネシア Indonesia \n",
    "M6.4\n",
    "\n",
    "2017-09-01 01:06 UTC+8 \n",
    "印尼 インドネシア Indonesia \n",
    "2017-12-03 桃園站 Taoyuan Station 空氣2號 Air 2 (Arduino Uno + TL081) 12017-12-03 桃園站 Taoyuan Station (NI USB-6210) 12017-12-03 桃園站 Taoyuan Station 空氣2號 Air 2 (Arduino Uno + TL081) 1 - Analysis2017-12-03 桃園站 Taoyuan Station (NI USB-6210) 1M8.1\n",
    "\n",
    "2017-09-20 02:14 UTC+8\n",
    "墨西哥 メキシコ Mexico \n",
    "M7.1"
   ]
  },
  {
   "cell_type": "code",
   "execution_count": null,
   "metadata": {
    "collapsed": true
   },
   "outputs": [],
   "source": []
  }
 ],
 "metadata": {
  "anaconda-cloud": {},
  "kernelspec": {
   "display_name": "Python 3",
   "language": "python",
   "name": "python3"
  },
  "language_info": {
   "codemirror_mode": {
    "name": "ipython",
    "version": 3
   },
   "file_extension": ".py",
   "mimetype": "text/x-python",
   "name": "python",
   "nbconvert_exporter": "python",
   "pygments_lexer": "ipython3",
   "version": "3.6.3"
  }
 },
 "nbformat": 4,
 "nbformat_minor": 1
}
